{
 "cells": [
  {
   "cell_type": "markdown",
   "id": "59323b75-a4b4-4fbc-8c5e-6c1274211156",
   "metadata": {},
   "source": [
    "# 1. Mapas Coropléticos "
   ]
  },
  {
   "cell_type": "markdown",
   "id": "b58e90a7-f119-42d7-b219-9bf1b4ace7bf",
   "metadata": {},
   "source": [
    "## 1.1 Introducción: "
   ]
  },
  {
   "cell_type": "markdown",
   "id": "fee942f8-b67d-4246-a77a-56b63a979111",
   "metadata": {},
   "source": [
    "El objetivo del presente documento es analizar una serie de metodologías médiate la utilización de Python y la biblioteca Pandas con su extensión GeoPandas  para el  análisis de datos espaciales,  herramientas comúnmente utilizadas en “Ciencia de Datos”, para  la confección de mapas coropléticos a partir de la utilización de datos de casos de covid19 en los partidos de la cuenca del río Luján."
   ]
  },
  {
   "cell_type": "markdown",
   "id": "e85c2a01-ef5d-4905-a8a8-1c55406008f1",
   "metadata": {},
   "source": [
    "\n",
    "En el análisis de la distribución espacial de los fenómenos sobre la superficie terrestre los mapas coropléticos  desempeñan un papel destacado en la ciencia de datos espaciales*. En la actualidad con la pandemia del Covid19 estos han  adquirido un gran  protagonismo en los medios de comunicación, tal y como se vio con la publicación del mapa de la distribución espacial de casos de covid19 a escala mundial publicado por la universidad Johns Hopkins (https://coronavirus.jhu.edu/map.html).\n"
   ]
  },
  {
   "cell_type": "markdown",
   "id": "331af936-e6d1-4335-a2b7-c5704bfbfd29",
   "metadata": {},
   "source": [
    "  La palabra coropleta  proviene de la raíz “coro” que significa área o región. Un mapa coropético presenta datos en cada región que se encuentra asociada  a la intensidad en una rampa de colores, cada observación se encuentra vinculada un valor en una tabla de atributo (el valor de la variable a representar)  y una geometría por lo general un polígono, las unidades espaciales. "
   ]
  },
  {
   "cell_type": "markdown",
   "id": "8c50d6ae-0cb6-4481-8353-af17e9be5df5",
   "metadata": {},
   "source": [
    "Mostrar valores cuantitativos en mapas coropléticos  envuelve la tarea  de representar los datos  de manera correcta y al mismo tiempo poder ordenar los mismos de forma  que podamos detectar patrones en ellos. Las clase van a agrupar las entidades con valores similares, estas se van a representar con un color. Los límites de clases, van a definir como las entidades quedaran agrupadas, según como establezcamos estos límites, vamos a obtener mapas distintos. La efectividad de un mapa coroplético dependerá de los esquemas de clasificación junto a las estrategias de  color y simbología a adoptar. En términos generales los esquemas de clasificación define el número de clases, así como las reglas de asignación, mientras la forma de simbolizar debería transmitir información sobre la diferenciación de valor entre las clases. "
   ]
  },
  {
   "cell_type": "markdown",
   "id": "d38830b8-8484-4047-a9d9-1d90cc8267fd",
   "metadata": {},
   "source": [
    "Existen dos criticas básicas que se le puede atribuir a este tipo de representación según Buzai y Baxandale, (2012). El primero de ellos radica  en el tamaño relativo o absoluto de las unidades espaciales, ya que cada valor se representa de forma homogénea en su interior cuanto mayor superficie ocupa más alejado estará de la realidad. El segundo aspecto a resolver es la cantidad de intervalos de clase (K) a utilizar pues aquí se producen ciertos inconvenientes entre el máximo de categorías y el nivel de lectura, debido a que la  mayor cantidad de categorías  brindaría  la mejor variación en la distribución espacial, sin embargo esto afectaría la comprensión del mapa. "
   ]
  },
  {
   "cell_type": "markdown",
   "id": "d346c84f-2654-4ab0-951c-4ce6228d393b",
   "metadata": {},
   "source": [
    " ## 1.2 Software y datasets"
   ]
  },
  {
   "cell_type": "markdown",
   "id": "bf22a121-955a-456b-987b-0c46bc44144b",
   "metadata": {},
   "source": [
    "Python es un lenguaje de programación de alto nivel  utilizado en ciencia de datos. Python es un lenguaje que se caracteriza por su facilidad al implementarlo y de alta performance. Este lenguaje es ampliamente utilizado en todos los ámbitos de la ciencia,  la NASA en el control de satélites hasta en muchos ámbitos de la industria en el control de procesos. Existen comunidades científicas en todo el mundo para respaldar y mejorar  este lenguaje a través de la biblioteca Scintific Python scipy y la organización PyData. Dentro del dominio geográfico es el lenguaje utilizado para la creación de scripts en sistemas de información geográfica como QGIS Y ArcGIS. "
   ]
  },
  {
   "cell_type": "markdown",
   "id": "d915b3f3-a871-4073-985e-55107c8b1cf0",
   "metadata": {},
   "source": [
    " Python se compila sobre la marcha sin necesidad de compilarlo. Lo que lo diferencia de otro tipo de lenguaje, que requieren un paso adicional no interpretativo en el que el programa se convierte en un archivo binario, que luego se ejecuta. En su lugar podemos escribir simplemente el código, ejecutarlo, solucionar cualquier problema y volver a ejecutarlo. Esto convierte a Python en una herramienta realmente muy buena y productiva para la ciencia, ya que podemos crear código prototipo, modificarlo, mejorarlo y hasta reutilizar."
   ]
  },
  {
   "cell_type": "markdown",
   "id": "d33ffc22-e562-4185-9a9c-8ddcc2d9a736",
   "metadata": {},
   "source": [
    "El poder de Python como herramienta de análisis de datos proviene realmente de paquetes adicionales, código adicional  llamadas bibliotecas que agrega funcionalidad al lenguaje en sí. Python posee un amplio ecosistema de bibliotecas para ciencia de datos y en especial para el análisis espacial, siendo la principal Geopandas. La carga de paquetes Python se denomina importación. GeoPandas amplia a la biblioteca Pandas de ciencia de datos al agregar soporte para datos geoespaciales. "
   ]
  },
  {
   "cell_type": "markdown",
   "id": "eacedec8-afdc-47d6-a930-5c49fa005e9a",
   "metadata": {},
   "source": [
    "La estructura de datos central en GeoPandas es geopandas.GeoDataFrame una subclase pandas.DataFrame  capas almacenar columnas geométricas y realizar operaciones espaciales. Un archivo que contiene datos como geometrías con extensión GeoPackage, GeoJSON o Shapefile   puede ser leído por esta biblioteca."
   ]
  },
  {
   "cell_type": "code",
   "execution_count": null,
   "id": "6552ccbb-9d70-4d12-af3b-cb5c098f89b1",
   "metadata": {},
   "outputs": [],
   "source": []
  }
 ],
 "metadata": {
  "kernelspec": {
   "display_name": "Python 3",
   "language": "python",
   "name": "python3"
  },
  "language_info": {
   "codemirror_mode": {
    "name": "ipython",
    "version": 3
   },
   "file_extension": ".py",
   "mimetype": "text/x-python",
   "name": "python",
   "nbconvert_exporter": "python",
   "pygments_lexer": "ipython3",
   "version": "3.8.8"
  }
 },
 "nbformat": 4,
 "nbformat_minor": 5
}
